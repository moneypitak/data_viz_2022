{
  "nbformat": 4,
  "nbformat_minor": 0,
  "metadata": {
    "colab": {
      "name": "Basic_Programming_Concepts.ipynb",
      "provenance": [],
      "authorship_tag": "ABX9TyOk9kAT8BJkDxaD990zfOMW",
      "include_colab_link": true
    },
    "kernelspec": {
      "name": "python3",
      "display_name": "Python 3"
    },
    "language_info": {
      "name": "python"
    }
  },
  "cells": [
    {
      "cell_type": "markdown",
      "metadata": {
        "id": "view-in-github",
        "colab_type": "text"
      },
      "source": [
        "<a href=\"https://colab.research.google.com/github/moneypitak/data_viz_2022/blob/main/Basic_Programming_Concepts.ipynb\" target=\"_parent\"><img src=\"https://colab.research.google.com/assets/colab-badge.svg\" alt=\"Open In Colab\"/></a>"
      ]
    },
    {
      "cell_type": "markdown",
      "source": [
        "# Functions ($f(x) = y$)"
      ],
      "metadata": {
        "id": "5osQnWWXfSz3"
      }
    },
    {
      "cell_type": "markdown",
      "source": [
        "```python\n",
        "def function_name(input_x):\n",
        "    # do something with input_x to get output_y\n",
        "    return output_y\n",
        "```"
      ],
      "metadata": {
        "id": "WyYxxcwjfW0G"
      }
    },
    {
      "cell_type": "markdown",
      "source": [
        "$f_1(x)=x^2 + 75$"
      ],
      "metadata": {
        "id": "aKAB5R98fYid"
      }
    },
    {
      "cell_type": "code",
      "execution_count": 19,
      "metadata": {
        "colab": {
          "base_uri": "https://localhost:8080/"
        },
        "id": "I2lExWHHfQcV",
        "outputId": "fdf0a961-9432-4c60-ac21-2d1c0385724a"
      },
      "outputs": [
        {
          "output_type": "stream",
          "name": "stdout",
          "text": [
            "done!\n"
          ]
        }
      ],
      "source": [
        "def function_f1(x):\n",
        "    a = x**2\n",
        "    y = a + 75\n",
        "    return y\n",
        "\n",
        "print('done!')"
      ]
    },
    {
      "cell_type": "code",
      "source": [
        "function_f1(3)"
      ],
      "metadata": {
        "colab": {
          "base_uri": "https://localhost:8080/"
        },
        "id": "gUImt49UfbmV",
        "outputId": "14562714-eaba-4c6c-cf09-8be80012a3e6"
      },
      "execution_count": 20,
      "outputs": [
        {
          "output_type": "execute_result",
          "data": {
            "text/plain": [
              "84"
            ]
          },
          "metadata": {},
          "execution_count": 20
        }
      ]
    },
    {
      "cell_type": "markdown",
      "source": [
        "function มีส่วนสำคัญทั้งหมด 4 ส่วน\n",
        "\n",
        "1. บอก python ว่าเราจะเขียนฟังก์ชั่น ชื่ออะไร  `def function_name()`: (ขาดไม่ได้)\n",
        "2. กำหนดตัวแปรที่จะเป็น input  _Input_ (ขาดได้)\n",
        "3. ส่วนประมวลผล do_something with _Input_ to get _Output_ (ขาดไม่ได้)\n",
        "4. ส่วน output `return` _Output_(ขาดได้)"
      ],
      "metadata": {
        "id": "dqn_DcFLfdD1"
      }
    },
    {
      "cell_type": "markdown",
      "source": [
        "### ตัวอย่าง function ที่มีส่วนประกอบครบ\n"
      ],
      "metadata": {
        "id": "Mb_tfDZ2fe3u"
      }
    },
    {
      "cell_type": "code",
      "source": [
        "def function_f1(x):\n",
        "    a = x**2\n",
        "    y = a + 75\n",
        "    return y"
      ],
      "metadata": {
        "id": "8Fr0bfOQfgol"
      },
      "execution_count": 21,
      "outputs": []
    },
    {
      "cell_type": "markdown",
      "source": [
        "### ตัวอย่าง function ที่ ไม่มี input"
      ],
      "metadata": {
        "id": "t9WBMWXlfh4N"
      }
    },
    {
      "cell_type": "code",
      "source": [
        "def pi_v():\n",
        "    y = 3.14159265359\n",
        "    return y"
      ],
      "metadata": {
        "id": "LIUqBrp9fi7t"
      },
      "execution_count": 22,
      "outputs": []
    },
    {
      "cell_type": "code",
      "source": [
        "piv = pi_v()\n",
        "circle_area_r2 = piv*(2**2)\n",
        "print(circle_area_r2) "
      ],
      "metadata": {
        "colab": {
          "base_uri": "https://localhost:8080/"
        },
        "id": "5uOQeZYrfj5l",
        "outputId": "9484019f-49e8-4ad3-b60e-ebe688f1570d"
      },
      "execution_count": 23,
      "outputs": [
        {
          "output_type": "stream",
          "name": "stdout",
          "text": [
            "12.56637061436\n"
          ]
        }
      ]
    },
    {
      "cell_type": "markdown",
      "source": [
        "### Function ไม่มี process ไม่ได้"
      ],
      "metadata": {
        "id": "FN_IkLniflFu"
      }
    },
    {
      "cell_type": "code",
      "source": [
        "# def function_a(): ถ้ารันจะขึ้น error"
      ],
      "metadata": {
        "id": "gq908k5gfmr2"
      },
      "execution_count": 24,
      "outputs": []
    },
    {
      "cell_type": "markdown",
      "source": [
        "ตัวอย่าง Function ที่ไม่มี output"
      ],
      "metadata": {
        "id": "inK2aadEfq3N"
      }
    },
    {
      "cell_type": "code",
      "source": [
        "def print_name_id(name,id):\n",
        "    print(f'ชื่อ {name} รหัสประจำตัว {id}')"
      ],
      "metadata": {
        "id": "g17Igojkfr2W"
      },
      "execution_count": 25,
      "outputs": []
    },
    {
      "cell_type": "code",
      "source": [
        "print_name_id('มันนี่','623020532-3')"
      ],
      "metadata": {
        "colab": {
          "base_uri": "https://localhost:8080/"
        },
        "id": "G6XytalFfsy-",
        "outputId": "ac920d0c-13b7-4cae-e4bf-e28b9f63687c"
      },
      "execution_count": 26,
      "outputs": [
        {
          "output_type": "stream",
          "name": "stdout",
          "text": [
            "ชื่อ มันนี่ รหัสประจำตัว 623020532-3\n"
          ]
        }
      ]
    },
    {
      "cell_type": "code",
      "source": [
        "a = print_name_id('มันนี่','623020532-3')"
      ],
      "metadata": {
        "colab": {
          "base_uri": "https://localhost:8080/"
        },
        "id": "jlryFAmvft79",
        "outputId": "3641ea9a-7743-4fca-f1b1-1852c8b45c53"
      },
      "execution_count": 27,
      "outputs": [
        {
          "output_type": "stream",
          "name": "stdout",
          "text": [
            "ชื่อ มันนี่ รหัสประจำตัว 623020532-3\n"
          ]
        }
      ]
    },
    {
      "cell_type": "code",
      "source": [
        "a"
      ],
      "metadata": {
        "id": "se_91OT7f0wW"
      },
      "execution_count": 28,
      "outputs": []
    },
    {
      "cell_type": "markdown",
      "source": [
        "ตัวอย่าง function `print` https://www.programiz.com/python-programming/methods/built-in/print\n",
        "![image.png](data:image/png;base64,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)\n",
        "![image.png](data:image/png;base64,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)"
      ],
      "metadata": {
        "id": "-5AHeZIBf5MO"
      }
    },
    {
      "cell_type": "code",
      "source": [
        "print('มันนี่')\n",
        "print('623020532-3')"
      ],
      "metadata": {
        "colab": {
          "base_uri": "https://localhost:8080/"
        },
        "id": "mmrvUixUgV-l",
        "outputId": "7649d1a4-49a4-447c-c131-e6b28e62f554"
      },
      "execution_count": 29,
      "outputs": [
        {
          "output_type": "stream",
          "name": "stdout",
          "text": [
            "มันนี่\n",
            "623020532-3\n"
          ]
        }
      ]
    },
    {
      "cell_type": "code",
      "source": [
        "print('มันนี่',end='->')\n",
        "print('623020532-3')"
      ],
      "metadata": {
        "colab": {
          "base_uri": "https://localhost:8080/"
        },
        "id": "740LJAoRgXKl",
        "outputId": "43cb28d6-f27b-4a33-fc1c-f82dc7bc8ee1"
      },
      "execution_count": 30,
      "outputs": [
        {
          "output_type": "stream",
          "name": "stdout",
          "text": [
            "มันนี่->623020532-3\n"
          ]
        }
      ]
    },
    {
      "cell_type": "code",
      "source": [
        "print('มันนี่','623020532-3')"
      ],
      "metadata": {
        "colab": {
          "base_uri": "https://localhost:8080/"
        },
        "id": "1OofZdjcgYEl",
        "outputId": "4fe0f95f-92e6-4e46-adc3-fb017598a0d7"
      },
      "execution_count": 31,
      "outputs": [
        {
          "output_type": "stream",
          "name": "stdout",
          "text": [
            "มันนี่ 623020532-3\n"
          ]
        }
      ]
    },
    {
      "cell_type": "code",
      "source": [
        "print('มันนี่','623020532-3',sep=' & ')"
      ],
      "metadata": {
        "colab": {
          "base_uri": "https://localhost:8080/"
        },
        "id": "YcyrSZS_gZS3",
        "outputId": "fcdb886d-2dd6-42bc-ed2d-bd9997d49506"
      },
      "execution_count": 32,
      "outputs": [
        {
          "output_type": "stream",
          "name": "stdout",
          "text": [
            "มันนี่ & 623020532-3\n"
          ]
        }
      ]
    },
    {
      "cell_type": "markdown",
      "source": [
        "## input ของ function แบ่งเป็น 2 ชนิด (จำเป็นต้องใส่ กับ ไม่จำเป็นต้องใส่)"
      ],
      "metadata": {
        "id": "aJxnztZdgaY9"
      }
    },
    {
      "cell_type": "markdown",
      "source": [
        "ตัวอย่าง function `print_grade()` มี input 3 ตัว จำเป็นต้องใส่ 2 ตัว คือ name กับ id และไม่จำเป็นต้องใส่ 1 ตัว คือเกรด ซึ่งมีค่า default เป็น F"
      ],
      "metadata": {
        "id": "jdBz3MsPgcDv"
      }
    },
    {
      "cell_type": "code",
      "source": [
        "def print_grade(name,id,grade = 'F'):\n",
        "    print(f'รหัสประจำตัว {id} ชื่อ {name}')\n",
        "    print(f'ได้เกรด {grade}')"
      ],
      "metadata": {
        "id": "FrBVo3sSgdhW"
      },
      "execution_count": 33,
      "outputs": []
    },
    {
      "cell_type": "code",
      "source": [
        "print_grade('นายสิทธัตกะ จรัสแสง','623020541-2')"
      ],
      "metadata": {
        "colab": {
          "base_uri": "https://localhost:8080/"
        },
        "id": "20vkXQA4gek3",
        "outputId": "7cc69a59-7116-45e1-f1d8-ab125e6bb2f3"
      },
      "execution_count": 34,
      "outputs": [
        {
          "output_type": "stream",
          "name": "stdout",
          "text": [
            "รหัสประจำตัว 623020541-2 ชื่อ นายสิทธัตกะ จรัสแสง\n",
            "ได้เกรด F\n"
          ]
        }
      ]
    },
    {
      "cell_type": "code",
      "source": [
        "print_grade('นายสิทธัตกะ จรัสแสง','623020541-2','A')"
      ],
      "metadata": {
        "colab": {
          "base_uri": "https://localhost:8080/"
        },
        "id": "Fk1zxe5MgfZN",
        "outputId": "884dea4f-53c4-4fab-b1a9-48b499bbb71c"
      },
      "execution_count": 35,
      "outputs": [
        {
          "output_type": "stream",
          "name": "stdout",
          "text": [
            "รหัสประจำตัว 623020541-2 ชื่อ นายสิทธัตกะ จรัสแสง\n",
            "ได้เกรด A\n"
          ]
        }
      ]
    },
    {
      "cell_type": "code",
      "source": [
        "print_grade(id='623020541-2',name='นายสิทธัตกะ จรัสแสง',grade='B+')"
      ],
      "metadata": {
        "colab": {
          "base_uri": "https://localhost:8080/"
        },
        "id": "t7D9ygFoggke",
        "outputId": "355c7f7d-ed6c-4c37-eea3-de6223bc8297"
      },
      "execution_count": 36,
      "outputs": [
        {
          "output_type": "stream",
          "name": "stdout",
          "text": [
            "รหัสประจำตัว 623020541-2 ชื่อ นายสิทธัตกะ จรัสแสง\n",
            "ได้เกรด B+\n"
          ]
        }
      ]
    },
    {
      "cell_type": "markdown",
      "source": [
        "# Looping (for)\n"
      ],
      "metadata": {
        "id": "3mNIHrFdghxN"
      }
    },
    {
      "cell_type": "markdown",
      "source": [
        "```python\n",
        "for member in listEx:\n",
        "    do_something()\n",
        "```"
      ],
      "metadata": {
        "id": "Epb7JsB2oTT7"
      }
    },
    {
      "cell_type": "code",
      "source": [
        "for member in [1,2,3,4,5,6]:\n",
        "    print(member)"
      ],
      "metadata": {
        "colab": {
          "base_uri": "https://localhost:8080/"
        },
        "id": "ZO3ezcAhoXEr",
        "outputId": "ab655ffb-dbc2-4515-91ed-b5196fd412f6"
      },
      "execution_count": 37,
      "outputs": [
        {
          "output_type": "stream",
          "name": "stdout",
          "text": [
            "1\n",
            "2\n",
            "3\n",
            "4\n",
            "5\n",
            "6\n"
          ]
        }
      ]
    },
    {
      "cell_type": "code",
      "source": [
        "def print_name(name):\n",
        "    print(f'ฉันชื่อ {name}')"
      ],
      "metadata": {
        "id": "EhIB5YAaoYxN"
      },
      "execution_count": 38,
      "outputs": []
    },
    {
      "cell_type": "code",
      "source": [
        "for name in ['วัชราภรณ์','จุฑากาญจน์ ','ชลธิชา','ญาดา','กิตติคุณ']:\n",
        "    N = name\n",
        "    print_name(N)"
      ],
      "metadata": {
        "colab": {
          "base_uri": "https://localhost:8080/"
        },
        "id": "RCCb6wwroaHl",
        "outputId": "a4947066-b33b-4e3c-e55d-21c4ffab0732"
      },
      "execution_count": 39,
      "outputs": [
        {
          "output_type": "stream",
          "name": "stdout",
          "text": [
            "ฉันชื่อ วัชราภรณ์\n",
            "ฉันชื่อ จุฑากาญจน์ \n",
            "ฉันชื่อ ชลธิชา\n",
            "ฉันชื่อ ญาดา\n",
            "ฉันชื่อ กิตติคุณ\n"
          ]
        }
      ]
    },
    {
      "cell_type": "code",
      "source": [
        "list_name_id_grade = [['นางสาวเบญญาภา ระภูเขียว','623020527-6','B'],\n",
        "                      ['นางสาวทักษิณา ราชหุ่น','623021000-1','A'],\n",
        "                      ['นางสาวปลายฟ้า คำเพ็ง','623021005-1','C']]"
      ],
      "metadata": {
        "id": "z_taJv32ocI1"
      },
      "execution_count": 40,
      "outputs": []
    },
    {
      "cell_type": "code",
      "source": [
        "for each in list_name_id_grade:\n",
        "    name = each[0]\n",
        "    id = each[1]\n",
        "    grade = each[2]\n",
        "    print_grade(name,id,grade)\n",
        "    print('----------------')"
      ],
      "metadata": {
        "colab": {
          "base_uri": "https://localhost:8080/"
        },
        "id": "hPTM2D54odcL",
        "outputId": "1a66a276-75a3-456f-8a1b-8a3de767a91f"
      },
      "execution_count": 41,
      "outputs": [
        {
          "output_type": "stream",
          "name": "stdout",
          "text": [
            "รหัสประจำตัว 623020527-6 ชื่อ นางสาวเบญญาภา ระภูเขียว\n",
            "ได้เกรด B\n",
            "----------------\n",
            "รหัสประจำตัว 623021000-1 ชื่อ นางสาวทักษิณา ราชหุ่น\n",
            "ได้เกรด A\n",
            "----------------\n",
            "รหัสประจำตัว 623021005-1 ชื่อ นางสาวปลายฟ้า คำเพ็ง\n",
            "ได้เกรด C\n",
            "----------------\n"
          ]
        }
      ]
    },
    {
      "cell_type": "markdown",
      "source": [
        "##0 ใช้ for loop เพิ่มสมาชิกใน list"
      ],
      "metadata": {
        "id": "L8v3jymTogFN"
      }
    },
    {
      "cell_type": "code",
      "source": [
        "list_name = []\n",
        "list_id = []\n",
        "list_grade = []\n",
        "for each in list_name_id_grade:\n",
        "    list_name.append(each[0])\n",
        "    list_id.append(each[1])\n",
        "    list_grade.append(each[2])"
      ],
      "metadata": {
        "id": "fjQFYrDcrI0y"
      },
      "execution_count": 42,
      "outputs": []
    },
    {
      "cell_type": "code",
      "source": [
        "list_name"
      ],
      "metadata": {
        "colab": {
          "base_uri": "https://localhost:8080/"
        },
        "id": "6spscTgYrKFa",
        "outputId": "a8aeed9d-dd21-4ce1-ed56-1ffb9cb22878"
      },
      "execution_count": 43,
      "outputs": [
        {
          "output_type": "execute_result",
          "data": {
            "text/plain": [
              "['นางสาวเบญญาภา ระภูเขียว', 'นางสาวทักษิณา ราชหุ่น', 'นางสาวปลายฟ้า คำเพ็ง']"
            ]
          },
          "metadata": {},
          "execution_count": 43
        }
      ]
    },
    {
      "cell_type": "markdown",
      "source": [
        "### การวนลูปด้วย `range()`"
      ],
      "metadata": {
        "id": "A8PLpVeerLoq"
      }
    },
    {
      "cell_type": "code",
      "source": [
        "for i in range(100):\n",
        "    print('งง', end = ' ')"
      ],
      "metadata": {
        "colab": {
          "base_uri": "https://localhost:8080/"
        },
        "id": "2XWoz4s7rNRC",
        "outputId": "83bd05df-d250-4cd5-91b9-c89845b2c2cd"
      },
      "execution_count": 44,
      "outputs": [
        {
          "output_type": "stream",
          "name": "stdout",
          "text": [
            "งง งง งง งง งง งง งง งง งง งง งง งง งง งง งง งง งง งง งง งง งง งง งง งง งง งง งง งง งง งง งง งง งง งง งง งง งง งง งง งง งง งง งง งง งง งง งง งง งง งง งง งง งง งง งง งง งง งง งง งง งง งง งง งง งง งง งง งง งง งง งง งง งง งง งง งง งง งง งง งง งง งง งง งง งง งง งง งง งง งง งง งง งง งง งง งง งง งง งง งง "
          ]
        }
      ]
    },
    {
      "cell_type": "markdown",
      "source": [
        "### Loop ซ้อน Loop"
      ],
      "metadata": {
        "id": "W0g4bJkRrlD6"
      }
    },
    {
      "cell_type": "code",
      "source": [
        "for mem1 in range(2,5): #[2,3,4]\n",
        "    print(f'now mem1 = {mem1}')\n",
        "    for mem2 in range(1,13): #[1,2,3,4,5,6,7,8,9,10,11,12]\n",
        "        print(f'{mem1} x {mem2} = {mem1*mem2}')\n",
        "    print(f'end inner for mem1 = {mem1}')"
      ],
      "metadata": {
        "colab": {
          "base_uri": "https://localhost:8080/"
        },
        "id": "EbMoymv7rkRS",
        "outputId": "dc354ee4-486f-4f20-987a-18a5137e9d4c"
      },
      "execution_count": 45,
      "outputs": [
        {
          "output_type": "stream",
          "name": "stdout",
          "text": [
            "now mem1 = 2\n",
            "2 x 1 = 2\n",
            "2 x 2 = 4\n",
            "2 x 3 = 6\n",
            "2 x 4 = 8\n",
            "2 x 5 = 10\n",
            "2 x 6 = 12\n",
            "2 x 7 = 14\n",
            "2 x 8 = 16\n",
            "2 x 9 = 18\n",
            "2 x 10 = 20\n",
            "2 x 11 = 22\n",
            "2 x 12 = 24\n",
            "end inner for mem1 = 2\n",
            "now mem1 = 3\n",
            "3 x 1 = 3\n",
            "3 x 2 = 6\n",
            "3 x 3 = 9\n",
            "3 x 4 = 12\n",
            "3 x 5 = 15\n",
            "3 x 6 = 18\n",
            "3 x 7 = 21\n",
            "3 x 8 = 24\n",
            "3 x 9 = 27\n",
            "3 x 10 = 30\n",
            "3 x 11 = 33\n",
            "3 x 12 = 36\n",
            "end inner for mem1 = 3\n",
            "now mem1 = 4\n",
            "4 x 1 = 4\n",
            "4 x 2 = 8\n",
            "4 x 3 = 12\n",
            "4 x 4 = 16\n",
            "4 x 5 = 20\n",
            "4 x 6 = 24\n",
            "4 x 7 = 28\n",
            "4 x 8 = 32\n",
            "4 x 9 = 36\n",
            "4 x 10 = 40\n",
            "4 x 11 = 44\n",
            "4 x 12 = 48\n",
            "end inner for mem1 = 4\n"
          ]
        }
      ]
    },
    {
      "cell_type": "markdown",
      "source": [
        "### Loop in Function"
      ],
      "metadata": {
        "id": "MjK83kU2rmvT"
      }
    },
    {
      "cell_type": "code",
      "source": [
        "def print_grade_loop(names,grades):\n",
        "    for n,g in zip(names,grades):\n",
        "        print(f'{n} ได้เกรด {g}')"
      ],
      "metadata": {
        "id": "U22bwqkhrn8C"
      },
      "execution_count": 46,
      "outputs": []
    },
    {
      "cell_type": "code",
      "source": [
        "print_grade_loop(list_name,list_grade)"
      ],
      "metadata": {
        "colab": {
          "base_uri": "https://localhost:8080/"
        },
        "id": "fMF7GEjurq1a",
        "outputId": "63acbfea-3dbe-4dc9-a170-7ee02928cf80"
      },
      "execution_count": 47,
      "outputs": [
        {
          "output_type": "stream",
          "name": "stdout",
          "text": [
            "นางสาวเบญญาภา ระภูเขียว ได้เกรด B\n",
            "นางสาวทักษิณา ราชหุ่น ได้เกรด A\n",
            "นางสาวปลายฟ้า คำเพ็ง ได้เกรด C\n"
          ]
        }
      ]
    },
    {
      "cell_type": "markdown",
      "source": [
        "# Conditional Statement (if)"
      ],
      "metadata": {
        "id": "KQE1C2yPgjEv"
      }
    },
    {
      "cell_type": "markdown",
      "source": [
        "```python\n",
        "if condition1:\n",
        "    do_something() ## ถ้า condition1 เป็นจริง ทำ do_something()\n",
        "elif condition2:\n",
        "    do_another_thing()  ## ถ้า condition1 ไม่เป็นจริงแต่ condition2 เป็นจริง ทำ do_another_thing()\n",
        "else:\n",
        "    do_the_last_thing() ## ถ้าไม่มี condition ไหนเป็นจริงเลย ทำ do_the_last_thing()\n",
        "```"
      ],
      "metadata": {
        "id": "9VNEhWGPuh6h"
      }
    },
    {
      "cell_type": "code",
      "source": [
        "for n in list_name:\n",
        "    if len(n)>20:\n",
        "        print(f'{n} ได้เกรด A')\n",
        "    else:\n",
        "        print(f'{n} ได้เกรด F')"
      ],
      "metadata": {
        "colab": {
          "base_uri": "https://localhost:8080/"
        },
        "id": "h8AxvBg8sNyr",
        "outputId": "30d76f6b-1541-4106-a2dc-14097bac7912"
      },
      "execution_count": 50,
      "outputs": [
        {
          "output_type": "stream",
          "name": "stdout",
          "text": [
            "นางสาวเบญญาภา ระภูเขียว ได้เกรด A\n",
            "นางสาวทักษิณา ราชหุ่น ได้เกรด A\n",
            "นางสาวปลายฟ้า คำเพ็ง ได้เกรด F\n"
          ]
        }
      ]
    },
    {
      "cell_type": "markdown",
      "source": [
        "### operator ที่ใช้ตรวจสอบ condition"
      ],
      "metadata": {
        "id": "M1whi4aisPCh"
      }
    },
    {
      "cell_type": "code",
      "source": [
        "a = 10 == 20\n",
        "print(a)"
      ],
      "metadata": {
        "colab": {
          "base_uri": "https://localhost:8080/"
        },
        "id": "j09rJ9W3sRFa",
        "outputId": "1e9265fc-2be6-4465-a1ca-722577c01992"
      },
      "execution_count": 51,
      "outputs": [
        {
          "output_type": "stream",
          "name": "stdout",
          "text": [
            "False\n"
          ]
        }
      ]
    },
    {
      "cell_type": "code",
      "source": [
        "b = 15 <= 20\n",
        "print(b)"
      ],
      "metadata": {
        "colab": {
          "base_uri": "https://localhost:8080/"
        },
        "id": "We-OQ3HQtDyR",
        "outputId": "05098280-742e-4bfa-fdd4-ca9af01c662b"
      },
      "execution_count": 52,
      "outputs": [
        {
          "output_type": "stream",
          "name": "stdout",
          "text": [
            "True\n"
          ]
        }
      ]
    },
    {
      "cell_type": "code",
      "source": [
        "if a:\n",
        "    print('x')"
      ],
      "metadata": {
        "id": "YvHP7uUZtEsc"
      },
      "execution_count": 53,
      "outputs": []
    },
    {
      "cell_type": "code",
      "source": [
        "if True:\n",
        "    print('x')"
      ],
      "metadata": {
        "colab": {
          "base_uri": "https://localhost:8080/"
        },
        "id": "p11LE5LFtFcL",
        "outputId": "1b71b03a-1d34-42d9-e940-9faf3a2f8f3f"
      },
      "execution_count": 54,
      "outputs": [
        {
          "output_type": "stream",
          "name": "stdout",
          "text": [
            "x\n"
          ]
        }
      ]
    },
    {
      "cell_type": "code",
      "source": [
        "if a and b:\n",
        "    print('x')"
      ],
      "metadata": {
        "id": "8AtIL8dFtGLx"
      },
      "execution_count": 55,
      "outputs": []
    },
    {
      "cell_type": "code",
      "source": [
        "if a or b:\n",
        "    print('x')"
      ],
      "metadata": {
        "colab": {
          "base_uri": "https://localhost:8080/"
        },
        "id": "Hi5kvwmitHRC",
        "outputId": "57144f2e-46c1-4f03-9a93-d137505a25f7"
      },
      "execution_count": 56,
      "outputs": [
        {
          "output_type": "stream",
          "name": "stdout",
          "text": [
            "x\n"
          ]
        }
      ]
    },
    {
      "cell_type": "markdown",
      "source": [
        "# HW\n",
        "เขียน function ตัดเกรด โดยที่ input เป็นคะแนน(0-100) , output เป็นเกรด (F-A) หรือ 'ไม่สามารถตัดเกรดได้'\n",
        "\n",
        "วนลูปตัดเกรด input = [1,50,65,90,101,-5,49,'ก',80]\n",
        "\n",
        "กำหนด\n",
        "\n",
        "*  ถ้าคะแนนอยู่ระหว่างมากกว่าหรือเท่ากับ  0  แต่น้อยกว่า 50 จะได้เกรด F\n",
        "*  ถ้าคะแนนอยู่ระหว่างมากกว่าหรือเท่ากับ 50 แต่น้อยกว่า 55 จะได้เกรด D\n",
        "*  ถ้าคะแนนอยู่ระหว่างมากกว่าหรือเท่ากับ 55 แต่น้อยกว่า 60 จะได้เกรด D+\n",
        "*  ถ้าคะแนนอยู่ระหว่างมากกว่าหรือเท่ากับ 60 แต่น้อยกว่า 65 จะได้เกรด C\n",
        "*  ถ้าคะแนนอยู่ระหว่างมากกว่าหรือเท่ากับ 65 แต่น้อยกว่า 70 จะได้เกรด C+\n",
        "*  ถ้าคะแนนอยู่ระหว่างมากกว่าหรือเท่ากับ 70 แต่น้อยกว่า 75 จะได้เกรด B\n",
        "*  ถ้าคะแนนอยู่ระหว่างมากกว่าหรือเท่ากับ 75 แต่น้อยกว่า 80 จะได้เกรด B+\n",
        "*  ถ้าคะแนนอยู่ระหว่างมากกว่าหรือเท่ากับ 80  จะได้เกรด A\n",
        "*  ถ้าคะแนนไม่อยู่ในช่วง 0-100 ให้ return 'ไม่สามารถตัดเกรดได้'"
      ],
      "metadata": {
        "id": "wPVtgIQWtIzJ"
      }
    },
    {
      "cell_type": "code",
      "source": [
        "input = [1,50,65,90,101,-5,49,'ก',80]"
      ],
      "metadata": {
        "id": "azGLqo17t1vR"
      },
      "execution_count": 57,
      "outputs": []
    },
    {
      "cell_type": "code",
      "source": [
        "for i in input:\n",
        "    if type(i) == type(''):\n",
        "            print (f'คะแนน เท่ากับ {i} ไม่สามารถตัดเกรดได้')\n",
        "    else:\n",
        "        if i >=101:\n",
        "            print (f'คะแนน เท่ากับ {i} ไม่สามารถตัดเกรดได้')\n",
        "        elif i >=80:\n",
        "            print(f'คะเเนน เท่ากับ  {i} จะได้เกรด A')\n",
        "        elif i>=75:\n",
        "            print(f'คะเเนน เท่ากับ  {i} จะได้เกรด B+')\n",
        "        elif i>=70:\n",
        "            print(f'คะเเนน เท่ากับ  {i} จะได้เกรด B')\n",
        "        elif i>=65:\n",
        "            print(f'คะเเนน เท่ากับ  {i} จะได้เกรด C+')\n",
        "        elif i>=60:\n",
        "            print(f'คะเเนน เท่ากับ  {i} จะได้เกรด C')\n",
        "        elif i>=55:\n",
        "            print(f'คะเเนน เท่ากับ  {i} จะได้เกรด D+')\n",
        "        elif i>=50:\n",
        "            print(f'คะเเนน เท่ากับ  {i} จะได้เกรด D')\n",
        "        elif i>=0:\n",
        "            print(f'คะเเนน เท่ากับ  {i} จะได้เกรด F')\n",
        "        else:\n",
        "            print(f'คะเเนน เท่ากับ  {i} ไม่สามารถตัดเกรดได้')"
      ],
      "metadata": {
        "colab": {
          "base_uri": "https://localhost:8080/"
        },
        "id": "re3tOx6Lt3go",
        "outputId": "a688dee6-0797-4f34-9e6d-741376393e18"
      },
      "execution_count": 59,
      "outputs": [
        {
          "output_type": "stream",
          "name": "stdout",
          "text": [
            "คะเเนน เท่ากับ  1 จะได้เกรด F\n",
            "คะเเนน เท่ากับ  50 จะได้เกรด D\n",
            "คะเเนน เท่ากับ  65 จะได้เกรด C+\n",
            "คะเเนน เท่ากับ  90 จะได้เกรด A\n",
            "คะแนน เท่ากับ 101 ไม่สามารถตัดเกรดได้\n",
            "คะเเนน เท่ากับ  -5 ไม่สามารถตัดเกรดได้\n",
            "คะเเนน เท่ากับ  49 จะได้เกรด F\n",
            "คะแนน เท่ากับ ก ไม่สามารถตัดเกรดได้\n",
            "คะเเนน เท่ากับ  80 จะได้เกรด A\n"
          ]
        }
      ]
    }
  ]
}