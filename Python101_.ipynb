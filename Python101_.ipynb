{
  "nbformat": 4,
  "nbformat_minor": 0,
  "metadata": {
    "colab": {
      "name": "Python101-.ipynb",
      "provenance": [],
      "authorship_tag": "ABX9TyM51UpHTFfyG4izrE0uP/8N",
      "include_colab_link": true
    },
    "kernelspec": {
      "name": "python3",
      "display_name": "Python 3"
    },
    "language_info": {
      "name": "python"
    }
  },
  "cells": [
    {
      "cell_type": "markdown",
      "metadata": {
        "id": "view-in-github",
        "colab_type": "text"
      },
      "source": [
        "<a href=\"https://colab.research.google.com/github/moneypitak/data_viz_2022/blob/main/Python101_.ipynb\" target=\"_parent\"><img src=\"https://colab.research.google.com/assets/colab-badge.svg\" alt=\"Open In Colab\"/></a>"
      ]
    },
    {
      "cell_type": "markdown",
      "source": [
        "ข้อความในช่อง text เป็น ภาษา Markdown (https://www.markdownguide.org/cheat-sheet/)\n",
        "\n",
        "# การจัดการข้อความในการแสดงผล (Print)\n",
        "ข้อความ \n",
        "\n",
        "## (string) test heading 3"
      ],
      "metadata": {
        "id": "ZcTew3UB4svU"
      }
    },
    {
      "cell_type": "code",
      "execution_count": 51,
      "metadata": {
        "colab": {
          "base_uri": "https://localhost:8080/",
          "height": 35
        },
        "id": "SAhcr3wK4mrt",
        "outputId": "482eedce-b6a3-4db7-9147-95075528b2dd"
      },
      "outputs": [
        {
          "output_type": "execute_result",
          "data": {
            "application/vnd.google.colaboratory.intrinsic+json": {
              "type": "string"
            },
            "text/plain": [
              "'สถิติ'"
            ]
          },
          "metadata": {},
          "execution_count": 51
        }
      ],
      "source": [
        "'สถิติ' # ' quote"
      ]
    },
    {
      "cell_type": "code",
      "source": [
        "\"สถิติ\" # \" quote"
      ],
      "metadata": {
        "colab": {
          "base_uri": "https://localhost:8080/",
          "height": 35
        },
        "id": "D1osur_x5M3D",
        "outputId": "bff8496b-8900-40d3-b1f5-442a2badc1ee"
      },
      "execution_count": 52,
      "outputs": [
        {
          "output_type": "execute_result",
          "data": {
            "application/vnd.google.colaboratory.intrinsic+json": {
              "type": "string"
            },
            "text/plain": [
              "'สถิติ'"
            ]
          },
          "metadata": {},
          "execution_count": 52
        }
      ]
    },
    {
      "cell_type": "code",
      "source": [
        "1 + 3"
      ],
      "metadata": {
        "colab": {
          "base_uri": "https://localhost:8080/"
        },
        "id": "kV0grZGU5O0C",
        "outputId": "1369c54f-b7d1-4df3-e44b-bf5eaea90f11"
      },
      "execution_count": 53,
      "outputs": [
        {
          "output_type": "execute_result",
          "data": {
            "text/plain": [
              "4"
            ]
          },
          "metadata": {},
          "execution_count": 53
        }
      ]
    },
    {
      "cell_type": "code",
      "source": [
        "'1' + '3' # string + string คือการต่อ string"
      ],
      "metadata": {
        "colab": {
          "base_uri": "https://localhost:8080/",
          "height": 35
        },
        "id": "lW3zmgWW5RI7",
        "outputId": "a5d27282-15e0-42a8-8c6a-37293de05077"
      },
      "execution_count": 54,
      "outputs": [
        {
          "output_type": "execute_result",
          "data": {
            "application/vnd.google.colaboratory.intrinsic+json": {
              "type": "string"
            },
            "text/plain": [
              "'13'"
            ]
          },
          "metadata": {},
          "execution_count": 54
        }
      ]
    },
    {
      "cell_type": "code",
      "source": [
        "1-3"
      ],
      "metadata": {
        "colab": {
          "base_uri": "https://localhost:8080/"
        },
        "id": "n7dumlfq5R7q",
        "outputId": "1c155399-0249-492c-fab9-7e6c900409f9"
      },
      "execution_count": 55,
      "outputs": [
        {
          "output_type": "execute_result",
          "data": {
            "text/plain": [
              "-2"
            ]
          },
          "metadata": {},
          "execution_count": 55
        }
      ]
    },
    {
      "cell_type": "code",
      "source": [
        "'1' - '3' # - string ทำไม่ได้"
      ],
      "metadata": {
        "colab": {
          "base_uri": "https://localhost:8080/",
          "height": 165
        },
        "id": "65J2HE0s5S-b",
        "outputId": "ec088103-025d-44d2-e4cd-dafef332d906"
      },
      "execution_count": 56,
      "outputs": [
        {
          "output_type": "error",
          "ename": "TypeError",
          "evalue": "ignored",
          "traceback": [
            "\u001b[0;31m---------------------------------------------------------------------------\u001b[0m",
            "\u001b[0;31mTypeError\u001b[0m                                 Traceback (most recent call last)",
            "\u001b[0;32m<ipython-input-56-509c2f592485>\u001b[0m in \u001b[0;36m<module>\u001b[0;34m()\u001b[0m\n\u001b[0;32m----> 1\u001b[0;31m \u001b[0;34m'1'\u001b[0m \u001b[0;34m-\u001b[0m \u001b[0;34m'3'\u001b[0m \u001b[0;31m# - string ทำไม่ได้\u001b[0m\u001b[0;34m\u001b[0m\u001b[0;34m\u001b[0m\u001b[0m\n\u001b[0m",
            "\u001b[0;31mTypeError\u001b[0m: unsupported operand type(s) for -: 'str' and 'str'"
          ]
        }
      ]
    },
    {
      "cell_type": "markdown",
      "source": [
        "# Print(ข้อความ)\n",
        "\n",
        "print(ข้อความ)"
      ],
      "metadata": {
        "id": "e8HoV-I35U7a"
      }
    },
    {
      "cell_type": "code",
      "source": [
        "print('ข้อความที่อยากให้ print')"
      ],
      "metadata": {
        "colab": {
          "base_uri": "https://localhost:8080/"
        },
        "id": "pplz9JqN5Wti",
        "outputId": "9fd9f7ec-820a-45d5-a6b3-d628dcf88a10"
      },
      "execution_count": 57,
      "outputs": [
        {
          "output_type": "stream",
          "name": "stdout",
          "text": [
            "ข้อความที่อยากให้ print\n"
          ]
        }
      ]
    },
    {
      "cell_type": "markdown",
      "source": [
        "# ตัวแปร (Variables)"
      ],
      "metadata": {
        "id": "4mQK1xVy5YQS"
      }
    },
    {
      "cell_type": "code",
      "source": [
        "vartest1 = 1+3\n",
        "vartest1"
      ],
      "metadata": {
        "colab": {
          "base_uri": "https://localhost:8080/"
        },
        "id": "-NYlXTxX5X8M",
        "outputId": "34e00acb-2f2b-4fd9-b39f-70df388e1098"
      },
      "execution_count": 58,
      "outputs": [
        {
          "output_type": "execute_result",
          "data": {
            "text/plain": [
              "4"
            ]
          },
          "metadata": {},
          "execution_count": 58
        }
      ]
    },
    {
      "cell_type": "code",
      "source": [
        "print(vartest1)"
      ],
      "metadata": {
        "colab": {
          "base_uri": "https://localhost:8080/"
        },
        "id": "fF2qJJTN5b6D",
        "outputId": "2b445865-d9da-4904-e354-b829673de5ce"
      },
      "execution_count": 59,
      "outputs": [
        {
          "output_type": "stream",
          "name": "stdout",
          "text": [
            "4\n"
          ]
        }
      ]
    },
    {
      "cell_type": "code",
      "source": [
        "vartest2 = '1' + '3'\n",
        "vartest2"
      ],
      "metadata": {
        "colab": {
          "base_uri": "https://localhost:8080/",
          "height": 35
        },
        "id": "NzALlC4Q543S",
        "outputId": "649474bf-24cd-4fc8-e330-2466d7a70f18"
      },
      "execution_count": 60,
      "outputs": [
        {
          "output_type": "execute_result",
          "data": {
            "application/vnd.google.colaboratory.intrinsic+json": {
              "type": "string"
            },
            "text/plain": [
              "'13'"
            ]
          },
          "metadata": {},
          "execution_count": 60
        }
      ]
    },
    {
      "cell_type": "code",
      "source": [
        "print(vartest2)"
      ],
      "metadata": {
        "colab": {
          "base_uri": "https://localhost:8080/"
        },
        "id": "WFXG1epr56sr",
        "outputId": "044d08eb-68f0-44b9-d5c7-ed51b83983b5"
      },
      "execution_count": 61,
      "outputs": [
        {
          "output_type": "stream",
          "name": "stdout",
          "text": [
            "13\n"
          ]
        }
      ]
    },
    {
      "cell_type": "markdown",
      "source": [
        "# ข้อกำหนดในการตั้งชื่อตัวแปร\n",
        "ตั้งให้สื่อความหมาย\n",
        "\n",
        "ต้องเป็นภาษาอังกฤษ\n",
        "\n",
        "ใช้ตัวเลขผสมกับตัวหนังสือได้ แต่ห้ามขึ้นต้นด้วยตัวเลข\n",
        "\n",
        "ห้ามมีเว้นวรรคในชื่อตัวแปร\n",
        "\n",
        "ตัวใหญ่ ตัวเล็ก มีค่าไม่เท่ากัน"
      ],
      "metadata": {
        "id": "PdA6sAdF575G"
      }
    },
    {
      "cell_type": "code",
      "source": [
        "# 1a = 7 #ใช้ตัวเลขผสมกับตัวหนังสือได้ แต่ห้ามขึ้นต้นด้วยตัวเลข "
      ],
      "metadata": {
        "id": "uO-eQHoy5_Dq"
      },
      "execution_count": 65,
      "outputs": []
    },
    {
      "cell_type": "code",
      "source": [
        "# variable a = 1 #ห้ามมีเว้นวรรคในชื่อตัวแปร"
      ],
      "metadata": {
        "id": "IZ25lIeN6AKj"
      },
      "execution_count": 64,
      "outputs": []
    },
    {
      "cell_type": "markdown",
      "source": [
        "# Advanced Printing\n",
        "## เราสามารถ print code ร่วมกับข้อความได้\n",
        "\n",
        "### print(f'ข้อความ{code}')"
      ],
      "metadata": {
        "id": "dkXJMKfo6BV0"
      }
    },
    {
      "cell_type": "code",
      "source": [
        "print(f'หนึ่ง บวก สอง (1+2) เท่ากับ สาม ({1+2})') # { } Curly Brackets"
      ],
      "metadata": {
        "colab": {
          "base_uri": "https://localhost:8080/"
        },
        "id": "5lNQNJiN6Dxh",
        "outputId": "cdec58c9-194f-473e-dd4a-b41e28b21ab0"
      },
      "execution_count": 66,
      "outputs": [
        {
          "output_type": "stream",
          "name": "stdout",
          "text": [
            "หนึ่ง บวก สอง (1+2) เท่ากับ สาม (3)\n"
          ]
        }
      ]
    },
    {
      "cell_type": "code",
      "source": [
        "a = 1\n",
        "b = 2\n",
        "print(f'หนึ่ง บวก สอง ({a}+{b}) เท่ากับ สาม ({a+b})')"
      ],
      "metadata": {
        "colab": {
          "base_uri": "https://localhost:8080/"
        },
        "id": "BLGc8oUE6Hii",
        "outputId": "199019cc-7e9b-4f4b-ebeb-1fadbed595be"
      },
      "execution_count": 67,
      "outputs": [
        {
          "output_type": "stream",
          "name": "stdout",
          "text": [
            "หนึ่ง บวก สอง (1+2) เท่ากับ สาม (3)\n"
          ]
        }
      ]
    },
    {
      "cell_type": "code",
      "source": [
        "a = 5\n",
        "b = 2"
      ],
      "metadata": {
        "id": "8b5vNN-S6Ija"
      },
      "execution_count": 68,
      "outputs": []
    },
    {
      "cell_type": "code",
      "source": [
        "print(f'{a}+{b} = {a+b}')"
      ],
      "metadata": {
        "colab": {
          "base_uri": "https://localhost:8080/"
        },
        "id": "JYJLZB5g6Jjr",
        "outputId": "f237968e-635e-48f0-8179-b98d167cb185"
      },
      "execution_count": 69,
      "outputs": [
        {
          "output_type": "stream",
          "name": "stdout",
          "text": [
            "5+2 = 7\n"
          ]
        }
      ]
    },
    {
      "cell_type": "code",
      "source": [
        "a = -1\n",
        "b = 11"
      ],
      "metadata": {
        "id": "dpV_kfZs6KYa"
      },
      "execution_count": 70,
      "outputs": []
    },
    {
      "cell_type": "markdown",
      "source": [
        "# ชนิดของตัวแปร\n",
        "\n",
        "char(acter) (ตัวอักษร)"
      ],
      "metadata": {
        "id": "5GAXSYq16MnR"
      }
    },
    {
      "cell_type": "code",
      "source": [
        "a = 'Ch'"
      ],
      "metadata": {
        "id": "BMNXVxlb6ODr"
      },
      "execution_count": 71,
      "outputs": []
    },
    {
      "cell_type": "code",
      "source": [
        "b = 'aracter'"
      ],
      "metadata": {
        "id": "fJRqcd2N6PoC"
      },
      "execution_count": 72,
      "outputs": []
    },
    {
      "cell_type": "code",
      "source": [
        "print(f'a={a} b={b}, then {a}+{b} = {a+b}')"
      ],
      "metadata": {
        "colab": {
          "base_uri": "https://localhost:8080/"
        },
        "id": "Ufcp2iXd6Qs6",
        "outputId": "b330bb8f-27f3-4f00-9566-541721325890"
      },
      "execution_count": 73,
      "outputs": [
        {
          "output_type": "stream",
          "name": "stdout",
          "text": [
            "a=Ch b=aracter, then Ch+aracter = Character\n"
          ]
        }
      ]
    },
    {
      "cell_type": "code",
      "source": [
        "A = 'c'\n",
        "B = 'a'"
      ],
      "metadata": {
        "id": "dUrVWSWt6RyL"
      },
      "execution_count": 74,
      "outputs": []
    },
    {
      "cell_type": "code",
      "source": [
        "print(A+B)"
      ],
      "metadata": {
        "colab": {
          "base_uri": "https://localhost:8080/"
        },
        "id": "Iob4Q6Fp6pm7",
        "outputId": "7310bae8-008c-4ed2-a7a0-58991cc843d9"
      },
      "execution_count": 75,
      "outputs": [
        {
          "output_type": "stream",
          "name": "stdout",
          "text": [
            "ca\n"
          ]
        }
      ]
    },
    {
      "cell_type": "markdown",
      "source": [
        "## int(eger) (จำนวนเต็ม)"
      ],
      "metadata": {
        "id": "94xEXIw_6qjj"
      }
    },
    {
      "cell_type": "code",
      "source": [
        "int_a = 7\n",
        "int_b = 2"
      ],
      "metadata": {
        "id": "gcjcU_gS6sGK"
      },
      "execution_count": 101,
      "outputs": []
    },
    {
      "cell_type": "code",
      "source": [
        "int_c = int_a + int_b\n",
        "print(int_c)"
      ],
      "metadata": {
        "colab": {
          "base_uri": "https://localhost:8080/"
        },
        "id": "5i0NkjJb6s2M",
        "outputId": "0fede1ef-13bf-4d41-acb9-80a1a1d2805a"
      },
      "execution_count": 102,
      "outputs": [
        {
          "output_type": "stream",
          "name": "stdout",
          "text": [
            "9\n"
          ]
        }
      ]
    },
    {
      "cell_type": "markdown",
      "source": [
        "## float (จำนวนจริง ทศนิยม)"
      ],
      "metadata": {
        "id": "brAvEWEN6uHS"
      }
    },
    {
      "cell_type": "code",
      "source": [
        "fl_a = 7.\n",
        "fl_b = 2.571\n"
      ],
      "metadata": {
        "id": "c4aK0TNY6wKc"
      },
      "execution_count": 103,
      "outputs": []
    },
    {
      "cell_type": "code",
      "source": [
        "fl_a"
      ],
      "metadata": {
        "colab": {
          "base_uri": "https://localhost:8080/"
        },
        "id": "mKNHUSxX626G",
        "outputId": "1149031b-afe6-41c0-9320-cca046be3b7d"
      },
      "execution_count": 104,
      "outputs": [
        {
          "output_type": "execute_result",
          "data": {
            "text/plain": [
              "7.0"
            ]
          },
          "metadata": {},
          "execution_count": 104
        }
      ]
    },
    {
      "cell_type": "code",
      "source": [
        "fl_b"
      ],
      "metadata": {
        "colab": {
          "base_uri": "https://localhost:8080/"
        },
        "id": "wB_Nerxr60uc",
        "outputId": "26f0b26d-1148-40f3-92a0-270ce6957016"
      },
      "execution_count": 105,
      "outputs": [
        {
          "output_type": "execute_result",
          "data": {
            "text/plain": [
              "2.571"
            ]
          },
          "metadata": {},
          "execution_count": 105
        }
      ]
    },
    {
      "cell_type": "code",
      "source": [
        "print(fl_a)"
      ],
      "metadata": {
        "colab": {
          "base_uri": "https://localhost:8080/"
        },
        "id": "aCJtSXLa64DK",
        "outputId": "dedd9816-69be-496e-e29d-92f05a4ae543"
      },
      "execution_count": 106,
      "outputs": [
        {
          "output_type": "stream",
          "name": "stdout",
          "text": [
            "7.0\n"
          ]
        }
      ]
    },
    {
      "cell_type": "markdown",
      "source": [
        "## boolean (ตัวแปรที่มีค่า True หรือ False) ตรรกศาสตร์"
      ],
      "metadata": {
        "id": "gf6Fv7Kv65iS"
      }
    },
    {
      "cell_type": "code",
      "source": [
        "b_T = True"
      ],
      "metadata": {
        "id": "yeaKh1I065U1"
      },
      "execution_count": 107,
      "outputs": []
    },
    {
      "cell_type": "code",
      "source": [
        "b_F = False"
      ],
      "metadata": {
        "id": "WDWTmcy867p7"
      },
      "execution_count": 108,
      "outputs": []
    },
    {
      "cell_type": "markdown",
      "source": [
        "## complex (จำนวนเชิงซ้อน)"
      ],
      "metadata": {
        "id": "WU9tqdWT674k"
      }
    },
    {
      "cell_type": "code",
      "source": [
        "x = 1 + 2j"
      ],
      "metadata": {
        "id": "5WXN3EsB69uK"
      },
      "execution_count": 109,
      "outputs": []
    },
    {
      "cell_type": "markdown",
      "source": [
        "## เราสามารถตรวจสอบชนิดของตัวแปรด้วยคำสั่ง type()\n",
        "\n",
        "type()"
      ],
      "metadata": {
        "id": "wMuGkCyO6_BY"
      }
    },
    {
      "cell_type": "code",
      "source": [
        "print(f'ตัวแปร x ค่าคือ {x} ชนิด {type(x)}')"
      ],
      "metadata": {
        "colab": {
          "base_uri": "https://localhost:8080/"
        },
        "id": "jb3bXdrk69yi",
        "outputId": "c0a25f60-ab48-4c35-9505-f2530a079374"
      },
      "execution_count": 110,
      "outputs": [
        {
          "output_type": "stream",
          "name": "stdout",
          "text": [
            "ตัวแปร x ค่าคือ (1+2j) ชนิด <class 'complex'>\n"
          ]
        }
      ]
    },
    {
      "cell_type": "code",
      "source": [
        "print(f'ตัวแปร A ค่าคือ {A} ชนิด {type(A)}')"
      ],
      "metadata": {
        "colab": {
          "base_uri": "https://localhost:8080/"
        },
        "id": "owJiPwJP7CO6",
        "outputId": "a37685bc-5c7f-425c-b54f-3bcb38a3fffc"
      },
      "execution_count": 111,
      "outputs": [
        {
          "output_type": "stream",
          "name": "stdout",
          "text": [
            "ตัวแปร A ค่าคือ c ชนิด <class 'str'>\n"
          ]
        }
      ]
    },
    {
      "cell_type": "code",
      "source": [
        "print(f'ตัวแปร a ค่าคือ {a} ชนิด {type(a)}')"
      ],
      "metadata": {
        "colab": {
          "base_uri": "https://localhost:8080/"
        },
        "id": "P1WFzRWU7DGa",
        "outputId": "2e2e9e6c-69d4-4ef6-adcc-a2beb4737f60"
      },
      "execution_count": 112,
      "outputs": [
        {
          "output_type": "stream",
          "name": "stdout",
          "text": [
            "ตัวแปร a ค่าคือ Ch ชนิด <class 'str'>\n"
          ]
        }
      ]
    },
    {
      "cell_type": "markdown",
      "source": [
        "## การแปลงชนิดของตัวแปร (Variable Casting)"
      ],
      "metadata": {
        "id": "cK0Kt5Ok7ENc"
      }
    },
    {
      "cell_type": "code",
      "source": [
        "print(f'int_a = {int_a} int_b = {int_b} fl_a = {fl_a} fl_b = {fl_b}')"
      ],
      "metadata": {
        "colab": {
          "base_uri": "https://localhost:8080/"
        },
        "id": "jXj9gfPG7FV6",
        "outputId": "64567f2f-00e7-436d-d131-db64e5d52fea"
      },
      "execution_count": 88,
      "outputs": [
        {
          "output_type": "stream",
          "name": "stdout",
          "text": [
            "int_a = 7 int_b = 2 fl_a = 7.0 fl_b = 2.571\n"
          ]
        }
      ]
    },
    {
      "cell_type": "code",
      "source": [
        "str_a = '6'\n",
        "str_b = '-2'"
      ],
      "metadata": {
        "id": "Jp-r8ov_7GUY"
      },
      "execution_count": 89,
      "outputs": []
    },
    {
      "cell_type": "code",
      "source": [
        "str_a2int = int(str_a)\n",
        "print(f'ตัวแปร str_a2int ค่าคือ {str_a2int} ชนิด {type(str_a2int)}')"
      ],
      "metadata": {
        "colab": {
          "base_uri": "https://localhost:8080/"
        },
        "id": "2WOvrCBP7HUe",
        "outputId": "14b0407a-ccbe-4df6-ced8-57939797ad1d"
      },
      "execution_count": 90,
      "outputs": [
        {
          "output_type": "stream",
          "name": "stdout",
          "text": [
            "ตัวแปร str_a2int ค่าคือ 6 ชนิด <class 'int'>\n"
          ]
        }
      ]
    },
    {
      "cell_type": "code",
      "source": [
        "str_a2int + int_a"
      ],
      "metadata": {
        "colab": {
          "base_uri": "https://localhost:8080/"
        },
        "id": "pGjM4jdF7ITK",
        "outputId": "78a248e7-1a85-4f10-fc1a-58830cf19047"
      },
      "execution_count": 91,
      "outputs": [
        {
          "output_type": "execute_result",
          "data": {
            "text/plain": [
              "13"
            ]
          },
          "metadata": {},
          "execution_count": 91
        }
      ]
    },
    {
      "cell_type": "code",
      "source": [
        " # str_a + int_a ใช้ไม่ได้"
      ],
      "metadata": {
        "colab": {
          "base_uri": "https://localhost:8080/",
          "height": 165
        },
        "id": "Tar7i97F7Jjl",
        "outputId": "3af98427-6a7e-49a4-a601-267a4bbda355"
      },
      "execution_count": 127,
      "outputs": [
        {
          "output_type": "error",
          "ename": "TypeError",
          "evalue": "ignored",
          "traceback": [
            "\u001b[0;31m---------------------------------------------------------------------------\u001b[0m",
            "\u001b[0;31mTypeError\u001b[0m                                 Traceback (most recent call last)",
            "\u001b[0;32m<ipython-input-127-f0968e4d612f>\u001b[0m in \u001b[0;36m<module>\u001b[0;34m()\u001b[0m\n\u001b[0;32m----> 1\u001b[0;31m \u001b[0mstr_a\u001b[0m \u001b[0;34m+\u001b[0m \u001b[0mint_a\u001b[0m\u001b[0;34m\u001b[0m\u001b[0;34m\u001b[0m\u001b[0m\n\u001b[0m",
            "\u001b[0;31mTypeError\u001b[0m: can only concatenate str (not \"int\") to str"
          ]
        }
      ]
    },
    {
      "cell_type": "code",
      "source": [
        "int(fl_b)"
      ],
      "metadata": {
        "id": "t5Frglqt7Lhq",
        "colab": {
          "base_uri": "https://localhost:8080/"
        },
        "outputId": "ce795334-ff40-4ef2-8318-aa95b5ac4d1c"
      },
      "execution_count": 115,
      "outputs": [
        {
          "output_type": "execute_result",
          "data": {
            "text/plain": [
              "2"
            ]
          },
          "metadata": {},
          "execution_count": 115
        }
      ]
    },
    {
      "cell_type": "code",
      "source": [
        "float(int_a)"
      ],
      "metadata": {
        "id": "iRiLEDmr7MPy",
        "colab": {
          "base_uri": "https://localhost:8080/"
        },
        "outputId": "19426c15-20cc-469c-bfdc-208a6f8bc141"
      },
      "execution_count": 116,
      "outputs": [
        {
          "output_type": "execute_result",
          "data": {
            "text/plain": [
              "7.0"
            ]
          },
          "metadata": {},
          "execution_count": 116
        }
      ]
    },
    {
      "cell_type": "code",
      "source": [
        "str(fl_b)"
      ],
      "metadata": {
        "id": "swhV757n7NKS",
        "colab": {
          "base_uri": "https://localhost:8080/",
          "height": 35
        },
        "outputId": "20696151-831a-4b79-9018-af27a80d1d26"
      },
      "execution_count": 117,
      "outputs": [
        {
          "output_type": "execute_result",
          "data": {
            "application/vnd.google.colaboratory.intrinsic+json": {
              "type": "string"
            },
            "text/plain": [
              "'2.571'"
            ]
          },
          "metadata": {},
          "execution_count": 117
        }
      ]
    },
    {
      "cell_type": "markdown",
      "source": [
        "# Operation เอาตัวแปรสองตัวมาทำอะไรกัน\n",
        "\n",
        "## operators (บวก (+), ลบ (-), คูณ (*), หาร (/), modulo (%), and (&), or (|))"
      ],
      "metadata": {
        "id": "Gv2AKKTm7OEs"
      }
    },
    {
      "cell_type": "code",
      "source": [
        "fl_a + int_b"
      ],
      "metadata": {
        "id": "GwbNtVlA7QB2",
        "outputId": "51d62403-e3ca-4fdd-ac64-92d9c71e3217",
        "colab": {
          "base_uri": "https://localhost:8080/"
        }
      },
      "execution_count": 118,
      "outputs": [
        {
          "output_type": "execute_result",
          "data": {
            "text/plain": [
              "9.0"
            ]
          },
          "metadata": {},
          "execution_count": 118
        }
      ]
    },
    {
      "cell_type": "code",
      "source": [
        "9%2 #การหาร เอาเศษ"
      ],
      "metadata": {
        "id": "geNSX5Hj7RgK",
        "outputId": "81b98014-0dc3-4989-db79-afb787d84104",
        "colab": {
          "base_uri": "https://localhost:8080/"
        }
      },
      "execution_count": 119,
      "outputs": [
        {
          "output_type": "execute_result",
          "data": {
            "text/plain": [
              "1"
            ]
          },
          "metadata": {},
          "execution_count": 119
        }
      ]
    },
    {
      "cell_type": "code",
      "source": [
        "100%2"
      ],
      "metadata": {
        "id": "noVAOjb57SN1",
        "outputId": "a956bf81-c3ef-4b77-f3dd-aa50647f11ea",
        "colab": {
          "base_uri": "https://localhost:8080/"
        }
      },
      "execution_count": 120,
      "outputs": [
        {
          "output_type": "execute_result",
          "data": {
            "text/plain": [
              "0"
            ]
          },
          "metadata": {},
          "execution_count": 120
        }
      ]
    },
    {
      "cell_type": "code",
      "source": [
        "int_a / int_b"
      ],
      "metadata": {
        "id": "oo5snbsc7TAi",
        "outputId": "718839c5-fe64-4838-d33e-6d9e30197178",
        "colab": {
          "base_uri": "https://localhost:8080/"
        }
      },
      "execution_count": 121,
      "outputs": [
        {
          "output_type": "execute_result",
          "data": {
            "text/plain": [
              "3.5"
            ]
          },
          "metadata": {},
          "execution_count": 121
        }
      ]
    },
    {
      "cell_type": "code",
      "source": [
        "int(int_a / int_b)"
      ],
      "metadata": {
        "id": "AccEcnoz7T2z",
        "outputId": "39880e5f-287e-4178-e388-6809648ab277",
        "colab": {
          "base_uri": "https://localhost:8080/"
        }
      },
      "execution_count": 122,
      "outputs": [
        {
          "output_type": "execute_result",
          "data": {
            "text/plain": [
              "3"
            ]
          },
          "metadata": {},
          "execution_count": 122
        }
      ]
    },
    {
      "cell_type": "code",
      "source": [
        "False & False"
      ],
      "metadata": {
        "id": "HhksKj8k7Uo7",
        "outputId": "c417774b-9d71-4604-e465-b691c73ef20c",
        "colab": {
          "base_uri": "https://localhost:8080/"
        }
      },
      "execution_count": 123,
      "outputs": [
        {
          "output_type": "execute_result",
          "data": {
            "text/plain": [
              "False"
            ]
          },
          "metadata": {},
          "execution_count": 123
        }
      ]
    },
    {
      "cell_type": "code",
      "source": [
        "False & True"
      ],
      "metadata": {
        "id": "QvFPZ-q07Vfm",
        "outputId": "cf2b71c8-e135-4ed5-d91a-15464420dc41",
        "colab": {
          "base_uri": "https://localhost:8080/"
        }
      },
      "execution_count": 124,
      "outputs": [
        {
          "output_type": "execute_result",
          "data": {
            "text/plain": [
              "False"
            ]
          },
          "metadata": {},
          "execution_count": 124
        }
      ]
    },
    {
      "cell_type": "code",
      "source": [
        "False | True"
      ],
      "metadata": {
        "id": "H46sBT5D7Wzj",
        "outputId": "c3d1aac2-8ed6-4544-aeb8-2c8fd7e3cea0",
        "colab": {
          "base_uri": "https://localhost:8080/"
        }
      },
      "execution_count": 125,
      "outputs": [
        {
          "output_type": "execute_result",
          "data": {
            "text/plain": [
              "True"
            ]
          },
          "metadata": {},
          "execution_count": 125
        }
      ]
    },
    {
      "cell_type": "markdown",
      "source": [
        "## String operations"
      ],
      "metadata": {
        "id": "Lw6_urj07XDa"
      }
    }
  ]
}